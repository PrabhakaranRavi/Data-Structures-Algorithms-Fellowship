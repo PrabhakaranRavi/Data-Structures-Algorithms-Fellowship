{
 "cells": [
  {
   "cell_type": "markdown",
   "id": "a8c75299",
   "metadata": {
    "papermill": {
     "duration": 0.008637,
     "end_time": "2023-05-14T07:51:32.050906",
     "exception": false,
     "start_time": "2023-05-14T07:51:32.042269",
     "status": "completed"
    },
    "tags": []
   },
   "source": [
    "**This notebook is an exercise in the [SQL](https://www.kaggle.com/learn/intro-to-sql) course.  You can reference the tutorial at [this link](https://www.kaggle.com/dansbecker/as-with).**\n",
    "\n",
    "---\n"
   ]
  },
  {
   "cell_type": "markdown",
   "id": "0749b10a",
   "metadata": {
    "papermill": {
     "duration": 0.008304,
     "end_time": "2023-05-14T07:51:32.067548",
     "exception": false,
     "start_time": "2023-05-14T07:51:32.059244",
     "status": "completed"
    },
    "tags": []
   },
   "source": [
    "# Introduction\n",
    "\n",
    "You are getting to the point where you can own an analysis from beginning to end. So you'll do more data exploration in this exercise than you've done before.  Before you get started, run the following set-up code as usual. "
   ]
  },
  {
   "cell_type": "code",
   "execution_count": 1,
   "id": "625704fa",
   "metadata": {
    "execution": {
     "iopub.execute_input": "2023-05-14T07:51:32.086080Z",
     "iopub.status.busy": "2023-05-14T07:51:32.085394Z",
     "iopub.status.idle": "2023-05-14T07:51:35.373529Z",
     "shell.execute_reply": "2023-05-14T07:51:35.372183Z"
    },
    "papermill": {
     "duration": 3.30055,
     "end_time": "2023-05-14T07:51:35.376347",
     "exception": false,
     "start_time": "2023-05-14T07:51:32.075797",
     "status": "completed"
    },
    "tags": []
   },
   "outputs": [
    {
     "name": "stdout",
     "output_type": "stream",
     "text": [
      "Using Kaggle's public dataset BigQuery integration.\n",
      "Setup Complete\n"
     ]
    }
   ],
   "source": [
    "# Get most recent checking code\n",
    "# !pip install -U -t /kaggle/working/ git+https://github.com/Kaggle/learntools.git\n",
    "# Set up feedback system\n",
    "from learntools.core import binder\n",
    "binder.bind(globals())\n",
    "from learntools.sql.ex5 import *\n",
    "print(\"Setup Complete\")"
   ]
  },
  {
   "cell_type": "markdown",
   "id": "cbde889f",
   "metadata": {
    "papermill": {
     "duration": 0.00845,
     "end_time": "2023-05-14T07:51:35.393506",
     "exception": false,
     "start_time": "2023-05-14T07:51:35.385056",
     "status": "completed"
    },
    "tags": []
   },
   "source": [
    "You'll work with a dataset about taxi trips in the city of Chicago. Run the cell below to fetch the `chicago_taxi_trips` dataset."
   ]
  },
  {
   "cell_type": "code",
   "execution_count": 2,
   "id": "372245f8",
   "metadata": {
    "execution": {
     "iopub.execute_input": "2023-05-14T07:51:35.412298Z",
     "iopub.status.busy": "2023-05-14T07:51:35.411846Z",
     "iopub.status.idle": "2023-05-14T07:51:35.769381Z",
     "shell.execute_reply": "2023-05-14T07:51:35.768435Z"
    },
    "papermill": {
     "duration": 0.369947,
     "end_time": "2023-05-14T07:51:35.772036",
     "exception": false,
     "start_time": "2023-05-14T07:51:35.402089",
     "status": "completed"
    },
    "tags": []
   },
   "outputs": [
    {
     "name": "stdout",
     "output_type": "stream",
     "text": [
      "Using Kaggle's public dataset BigQuery integration.\n"
     ]
    }
   ],
   "source": [
    "from google.cloud import bigquery\n",
    "\n",
    "# Create a \"Client\" object\n",
    "client = bigquery.Client()\n",
    "\n",
    "# Construct a reference to the \"chicago_taxi_trips\" dataset\n",
    "dataset_ref = client.dataset(\"chicago_taxi_trips\", project=\"bigquery-public-data\")\n",
    "\n",
    "# API request - fetch the dataset\n",
    "dataset = client.get_dataset(dataset_ref)"
   ]
  },
  {
   "cell_type": "markdown",
   "id": "3c4717b5",
   "metadata": {
    "papermill": {
     "duration": 0.008331,
     "end_time": "2023-05-14T07:51:35.788939",
     "exception": false,
     "start_time": "2023-05-14T07:51:35.780608",
     "status": "completed"
    },
    "tags": []
   },
   "source": [
    "# Exercises\n",
    "\n",
    "You are curious how much slower traffic moves when traffic volume is high. This involves a few steps.\n",
    "\n",
    "### 1) Find the data\n",
    "Before you can access the data, you need to find the table name with the data.\n",
    "\n",
    "*Hint*: Tab completion is helpful whenever you can't remember a command. Type `client.` and then hit the tab key. Don't forget the period before hitting tab."
   ]
  },
  {
   "cell_type": "code",
   "execution_count": 3,
   "id": "62705f30",
   "metadata": {
    "execution": {
     "iopub.execute_input": "2023-05-14T07:51:35.808385Z",
     "iopub.status.busy": "2023-05-14T07:51:35.807705Z",
     "iopub.status.idle": "2023-05-14T07:51:36.030288Z",
     "shell.execute_reply": "2023-05-14T07:51:36.029274Z"
    },
    "papermill": {
     "duration": 0.236472,
     "end_time": "2023-05-14T07:51:36.033971",
     "exception": false,
     "start_time": "2023-05-14T07:51:35.797499",
     "status": "completed"
    },
    "tags": []
   },
   "outputs": [
    {
     "name": "stdout",
     "output_type": "stream",
     "text": [
      "taxi_trips\n"
     ]
    }
   ],
   "source": [
    "# Your code here to find the table name\n",
    "table = list(client.list_tables(dataset))\n",
    "\n",
    "for tab in table:\n",
    "    print(tab.table_id)"
   ]
  },
  {
   "cell_type": "code",
   "execution_count": 4,
   "id": "3007c1d9",
   "metadata": {
    "execution": {
     "iopub.execute_input": "2023-05-14T07:51:36.054417Z",
     "iopub.status.busy": "2023-05-14T07:51:36.053773Z",
     "iopub.status.idle": "2023-05-14T07:51:36.063066Z",
     "shell.execute_reply": "2023-05-14T07:51:36.061995Z"
    },
    "papermill": {
     "duration": 0.021808,
     "end_time": "2023-05-14T07:51:36.065369",
     "exception": false,
     "start_time": "2023-05-14T07:51:36.043561",
     "status": "completed"
    },
    "tags": []
   },
   "outputs": [
    {
     "data": {
      "application/javascript": [
       "parent.postMessage({\"jupyterEvent\": \"custom.exercise_interaction\", \"data\": {\"outcomeType\": 1, \"valueTowardsCompletion\": 0.16666666666666666, \"interactionType\": 1, \"questionType\": 1, \"questionId\": \"1_GetTableName\", \"learnToolsVersion\": \"0.3.4\", \"failureMessage\": \"\", \"exceptionClass\": \"\", \"trace\": \"\"}}, \"*\")"
      ],
      "text/plain": [
       "<IPython.core.display.Javascript object>"
      ]
     },
     "metadata": {},
     "output_type": "display_data"
    },
    {
     "data": {
      "text/markdown": [
       "<span style=\"color:#33cc33\">Correct</span>"
      ],
      "text/plain": [
       "Correct"
      ]
     },
     "metadata": {},
     "output_type": "display_data"
    }
   ],
   "source": [
    "# Write the table name as a string below\n",
    "table_name = 'taxi_trips'\n",
    "# Check your answer\n",
    "q_1.check()"
   ]
  },
  {
   "cell_type": "markdown",
   "id": "cb69c3f3",
   "metadata": {
    "papermill": {
     "duration": 0.009019,
     "end_time": "2023-05-14T07:51:36.083776",
     "exception": false,
     "start_time": "2023-05-14T07:51:36.074757",
     "status": "completed"
    },
    "tags": []
   },
   "source": [
    "For the solution, uncomment the line below."
   ]
  },
  {
   "cell_type": "code",
   "execution_count": 5,
   "id": "5173612b",
   "metadata": {
    "execution": {
     "iopub.execute_input": "2023-05-14T07:51:36.103622Z",
     "iopub.status.busy": "2023-05-14T07:51:36.103221Z",
     "iopub.status.idle": "2023-05-14T07:51:36.112069Z",
     "shell.execute_reply": "2023-05-14T07:51:36.110995Z"
    },
    "papermill": {
     "duration": 0.021607,
     "end_time": "2023-05-14T07:51:36.114341",
     "exception": false,
     "start_time": "2023-05-14T07:51:36.092734",
     "status": "completed"
    },
    "tags": []
   },
   "outputs": [
    {
     "data": {
      "application/javascript": [
       "parent.postMessage({\"jupyterEvent\": \"custom.exercise_interaction\", \"data\": {\"interactionType\": 3, \"questionType\": 1, \"questionId\": \"1_GetTableName\", \"learnToolsVersion\": \"0.3.4\", \"valueTowardsCompletion\": 0.0, \"failureMessage\": \"\", \"exceptionClass\": \"\", \"trace\": \"\", \"outcomeType\": 4}}, \"*\")"
      ],
      "text/plain": [
       "<IPython.core.display.Javascript object>"
      ]
     },
     "metadata": {},
     "output_type": "display_data"
    },
    {
     "data": {
      "text/markdown": [
       "<span style=\"color:#33cc99\">Solution:</span> \n",
       "```python\n",
       "\n",
       "# List all the tables in the dataset\n",
       "tables = list(client.list_tables(dataset))\n",
       "\n",
       "# Print names of all tables in the dataset (there is only one!)\n",
       "for table in tables:  \n",
       "    print(table.table_id)\n",
       "\n",
       "table_name = 'taxi_trips'\n",
       "    \n",
       "```"
      ],
      "text/plain": [
       "Solution: \n",
       "```python\n",
       "\n",
       "# List all the tables in the dataset\n",
       "tables = list(client.list_tables(dataset))\n",
       "\n",
       "# Print names of all tables in the dataset (there is only one!)\n",
       "for table in tables:  \n",
       "    print(table.table_id)\n",
       "\n",
       "table_name = 'taxi_trips'\n",
       "    \n",
       "```"
      ]
     },
     "metadata": {},
     "output_type": "display_data"
    }
   ],
   "source": [
    "q_1.solution()"
   ]
  },
  {
   "cell_type": "markdown",
   "id": "d7244fe8",
   "metadata": {
    "papermill": {
     "duration": 0.008946,
     "end_time": "2023-05-14T07:51:36.132521",
     "exception": false,
     "start_time": "2023-05-14T07:51:36.123575",
     "status": "completed"
    },
    "tags": []
   },
   "source": [
    "### 2) Peek at the data\n",
    "\n",
    "Use the next code cell to peek at the top few rows of the data. Inspect the data and see if any issues with data quality are immediately obvious. "
   ]
  },
  {
   "cell_type": "code",
   "execution_count": 6,
   "id": "26c9ac3f",
   "metadata": {
    "execution": {
     "iopub.execute_input": "2023-05-14T07:51:36.154087Z",
     "iopub.status.busy": "2023-05-14T07:51:36.153651Z",
     "iopub.status.idle": "2023-05-14T07:51:37.133871Z",
     "shell.execute_reply": "2023-05-14T07:51:37.132675Z"
    },
    "papermill": {
     "duration": 0.994038,
     "end_time": "2023-05-14T07:51:37.136398",
     "exception": false,
     "start_time": "2023-05-14T07:51:36.142360",
     "status": "completed"
    },
    "tags": []
   },
   "outputs": [
    {
     "data": {
      "text/html": [
       "<div>\n",
       "<style scoped>\n",
       "    .dataframe tbody tr th:only-of-type {\n",
       "        vertical-align: middle;\n",
       "    }\n",
       "\n",
       "    .dataframe tbody tr th {\n",
       "        vertical-align: top;\n",
       "    }\n",
       "\n",
       "    .dataframe thead th {\n",
       "        text-align: right;\n",
       "    }\n",
       "</style>\n",
       "<table border=\"1\" class=\"dataframe\">\n",
       "  <thead>\n",
       "    <tr style=\"text-align: right;\">\n",
       "      <th></th>\n",
       "      <th>unique_key</th>\n",
       "      <th>taxi_id</th>\n",
       "      <th>trip_start_timestamp</th>\n",
       "      <th>trip_end_timestamp</th>\n",
       "      <th>trip_seconds</th>\n",
       "      <th>trip_miles</th>\n",
       "      <th>pickup_census_tract</th>\n",
       "      <th>dropoff_census_tract</th>\n",
       "      <th>pickup_community_area</th>\n",
       "      <th>dropoff_community_area</th>\n",
       "      <th>...</th>\n",
       "      <th>extras</th>\n",
       "      <th>trip_total</th>\n",
       "      <th>payment_type</th>\n",
       "      <th>company</th>\n",
       "      <th>pickup_latitude</th>\n",
       "      <th>pickup_longitude</th>\n",
       "      <th>pickup_location</th>\n",
       "      <th>dropoff_latitude</th>\n",
       "      <th>dropoff_longitude</th>\n",
       "      <th>dropoff_location</th>\n",
       "    </tr>\n",
       "  </thead>\n",
       "  <tbody>\n",
       "    <tr>\n",
       "      <th>0</th>\n",
       "      <td>771053a9bad80a7c1c0d86c5fb785f21207e59c7</td>\n",
       "      <td>d0cd60cfd2405562733ddd1ea3aba9be5ce4f20bc622c5...</td>\n",
       "      <td>2019-07-01 13:45:00+00:00</td>\n",
       "      <td>2019-07-01 14:00:00+00:00</td>\n",
       "      <td>753</td>\n",
       "      <td>2.28</td>\n",
       "      <td>1.703133e+10</td>\n",
       "      <td>1.703108e+10</td>\n",
       "      <td>33</td>\n",
       "      <td>8</td>\n",
       "      <td>...</td>\n",
       "      <td>1.0</td>\n",
       "      <td>11.25</td>\n",
       "      <td>Cash</td>\n",
       "      <td>Sun Taxi</td>\n",
       "      <td>41.859350</td>\n",
       "      <td>-87.617358</td>\n",
       "      <td>POINT (-87.6173580061 41.859349715)</td>\n",
       "      <td>41.892508</td>\n",
       "      <td>-87.626215</td>\n",
       "      <td>POINT (-87.6262149064 41.8925077809)</td>\n",
       "    </tr>\n",
       "    <tr>\n",
       "      <th>1</th>\n",
       "      <td>735f7dac03f027bb51ea12f8d6fabeb2ae9dc5b9</td>\n",
       "      <td>044aa88179fa43c628fe5a956567224cf0b1b1ad5994f3...</td>\n",
       "      <td>2019-07-28 11:45:00+00:00</td>\n",
       "      <td>2019-07-28 11:45:00+00:00</td>\n",
       "      <td>792</td>\n",
       "      <td>2.99</td>\n",
       "      <td>1.703108e+10</td>\n",
       "      <td>1.703133e+10</td>\n",
       "      <td>8</td>\n",
       "      <td>33</td>\n",
       "      <td>...</td>\n",
       "      <td>0.5</td>\n",
       "      <td>15.00</td>\n",
       "      <td>Credit Card</td>\n",
       "      <td>Chicago Carriage Cab Corp</td>\n",
       "      <td>41.892042</td>\n",
       "      <td>-87.631864</td>\n",
       "      <td>POINT (-87.6318639497 41.8920421365)</td>\n",
       "      <td>41.859350</td>\n",
       "      <td>-87.617358</td>\n",
       "      <td>POINT (-87.6173580061 41.859349715)</td>\n",
       "    </tr>\n",
       "    <tr>\n",
       "      <th>2</th>\n",
       "      <td>739fe5c84ae4e748193af9a9285ff35f27c9bac3</td>\n",
       "      <td>83946c2d33e0cac34a4d8a03a8bdca905808e852e16727...</td>\n",
       "      <td>2019-07-28 00:45:00+00:00</td>\n",
       "      <td>2019-07-28 01:15:00+00:00</td>\n",
       "      <td>1860</td>\n",
       "      <td>17.80</td>\n",
       "      <td>1.703198e+10</td>\n",
       "      <td>1.703108e+10</td>\n",
       "      <td>76</td>\n",
       "      <td>8</td>\n",
       "      <td>...</td>\n",
       "      <td>4.0</td>\n",
       "      <td>49.00</td>\n",
       "      <td>Cash</td>\n",
       "      <td>Star North Management LLC</td>\n",
       "      <td>41.979071</td>\n",
       "      <td>-87.903040</td>\n",
       "      <td>POINT (-87.9030396611 41.9790708201)</td>\n",
       "      <td>41.899156</td>\n",
       "      <td>-87.626211</td>\n",
       "      <td>POINT (-87.6262105324 41.8991556134)</td>\n",
       "    </tr>\n",
       "    <tr>\n",
       "      <th>3</th>\n",
       "      <td>7417d5ef4423e3d3fd1e1be5cc925e26bb2a6c43</td>\n",
       "      <td>a4d3ebdb843bb0ff2eeca8acc59adae88cf333e9efb25d...</td>\n",
       "      <td>2019-07-02 11:45:00+00:00</td>\n",
       "      <td>2019-07-02 12:00:00+00:00</td>\n",
       "      <td>526</td>\n",
       "      <td>1.18</td>\n",
       "      <td>1.703184e+10</td>\n",
       "      <td>1.703183e+10</td>\n",
       "      <td>32</td>\n",
       "      <td>28</td>\n",
       "      <td>...</td>\n",
       "      <td>0.0</td>\n",
       "      <td>7.25</td>\n",
       "      <td>Cash</td>\n",
       "      <td>Chicago Carriage Cab Corp</td>\n",
       "      <td>41.880994</td>\n",
       "      <td>-87.632746</td>\n",
       "      <td>POINT (-87.6327464887 41.8809944707)</td>\n",
       "      <td>41.885281</td>\n",
       "      <td>-87.657233</td>\n",
       "      <td>POINT (-87.6572331997 41.8852813201)</td>\n",
       "    </tr>\n",
       "    <tr>\n",
       "      <th>4</th>\n",
       "      <td>763d46c61d3ee7799291f13b704177ca599e067a</td>\n",
       "      <td>dae02605eae3567faac3548acc8480606cad8d08fac7bc...</td>\n",
       "      <td>2019-07-13 22:30:00+00:00</td>\n",
       "      <td>2019-07-13 22:45:00+00:00</td>\n",
       "      <td>402</td>\n",
       "      <td>0.99</td>\n",
       "      <td>NaN</td>\n",
       "      <td>NaN</td>\n",
       "      <td>7</td>\n",
       "      <td>6</td>\n",
       "      <td>...</td>\n",
       "      <td>0.0</td>\n",
       "      <td>6.00</td>\n",
       "      <td>Cash</td>\n",
       "      <td>Flash Cab</td>\n",
       "      <td>41.922686</td>\n",
       "      <td>-87.649489</td>\n",
       "      <td>POINT (-87.6494887289 41.9226862843)</td>\n",
       "      <td>41.944227</td>\n",
       "      <td>-87.655998</td>\n",
       "      <td>POINT (-87.6559981815 41.9442266014)</td>\n",
       "    </tr>\n",
       "  </tbody>\n",
       "</table>\n",
       "<p>5 rows × 23 columns</p>\n",
       "</div>"
      ],
      "text/plain": [
       "                                 unique_key  \\\n",
       "0  771053a9bad80a7c1c0d86c5fb785f21207e59c7   \n",
       "1  735f7dac03f027bb51ea12f8d6fabeb2ae9dc5b9   \n",
       "2  739fe5c84ae4e748193af9a9285ff35f27c9bac3   \n",
       "3  7417d5ef4423e3d3fd1e1be5cc925e26bb2a6c43   \n",
       "4  763d46c61d3ee7799291f13b704177ca599e067a   \n",
       "\n",
       "                                             taxi_id  \\\n",
       "0  d0cd60cfd2405562733ddd1ea3aba9be5ce4f20bc622c5...   \n",
       "1  044aa88179fa43c628fe5a956567224cf0b1b1ad5994f3...   \n",
       "2  83946c2d33e0cac34a4d8a03a8bdca905808e852e16727...   \n",
       "3  a4d3ebdb843bb0ff2eeca8acc59adae88cf333e9efb25d...   \n",
       "4  dae02605eae3567faac3548acc8480606cad8d08fac7bc...   \n",
       "\n",
       "       trip_start_timestamp        trip_end_timestamp  trip_seconds  \\\n",
       "0 2019-07-01 13:45:00+00:00 2019-07-01 14:00:00+00:00           753   \n",
       "1 2019-07-28 11:45:00+00:00 2019-07-28 11:45:00+00:00           792   \n",
       "2 2019-07-28 00:45:00+00:00 2019-07-28 01:15:00+00:00          1860   \n",
       "3 2019-07-02 11:45:00+00:00 2019-07-02 12:00:00+00:00           526   \n",
       "4 2019-07-13 22:30:00+00:00 2019-07-13 22:45:00+00:00           402   \n",
       "\n",
       "   trip_miles  pickup_census_tract  dropoff_census_tract  \\\n",
       "0        2.28         1.703133e+10          1.703108e+10   \n",
       "1        2.99         1.703108e+10          1.703133e+10   \n",
       "2       17.80         1.703198e+10          1.703108e+10   \n",
       "3        1.18         1.703184e+10          1.703183e+10   \n",
       "4        0.99                  NaN                   NaN   \n",
       "\n",
       "   pickup_community_area  dropoff_community_area  ...  extras  trip_total  \\\n",
       "0                     33                       8  ...     1.0       11.25   \n",
       "1                      8                      33  ...     0.5       15.00   \n",
       "2                     76                       8  ...     4.0       49.00   \n",
       "3                     32                      28  ...     0.0        7.25   \n",
       "4                      7                       6  ...     0.0        6.00   \n",
       "\n",
       "   payment_type                    company  pickup_latitude pickup_longitude  \\\n",
       "0          Cash                   Sun Taxi        41.859350       -87.617358   \n",
       "1   Credit Card  Chicago Carriage Cab Corp        41.892042       -87.631864   \n",
       "2          Cash  Star North Management LLC        41.979071       -87.903040   \n",
       "3          Cash  Chicago Carriage Cab Corp        41.880994       -87.632746   \n",
       "4          Cash                  Flash Cab        41.922686       -87.649489   \n",
       "\n",
       "                        pickup_location  dropoff_latitude  dropoff_longitude  \\\n",
       "0   POINT (-87.6173580061 41.859349715)         41.892508         -87.626215   \n",
       "1  POINT (-87.6318639497 41.8920421365)         41.859350         -87.617358   \n",
       "2  POINT (-87.9030396611 41.9790708201)         41.899156         -87.626211   \n",
       "3  POINT (-87.6327464887 41.8809944707)         41.885281         -87.657233   \n",
       "4  POINT (-87.6494887289 41.9226862843)         41.944227         -87.655998   \n",
       "\n",
       "                       dropoff_location  \n",
       "0  POINT (-87.6262149064 41.8925077809)  \n",
       "1   POINT (-87.6173580061 41.859349715)  \n",
       "2  POINT (-87.6262105324 41.8991556134)  \n",
       "3  POINT (-87.6572331997 41.8852813201)  \n",
       "4  POINT (-87.6559981815 41.9442266014)  \n",
       "\n",
       "[5 rows x 23 columns]"
      ]
     },
     "execution_count": 6,
     "metadata": {},
     "output_type": "execute_result"
    }
   ],
   "source": [
    "# Your code here\n",
    "table_ref = dataset_ref.table('taxi_trips')\n",
    "\n",
    "table = client.get_table(table_ref)\n",
    "\n",
    "client.list_rows(table, max_results =5).to_dataframe()"
   ]
  },
  {
   "cell_type": "markdown",
   "id": "a97e69f2",
   "metadata": {
    "papermill": {
     "duration": 0.00982,
     "end_time": "2023-05-14T07:51:37.156528",
     "exception": false,
     "start_time": "2023-05-14T07:51:37.146708",
     "status": "completed"
    },
    "tags": []
   },
   "source": [
    "After deciding whether you see any important issues, run the code cell below."
   ]
  },
  {
   "cell_type": "code",
   "execution_count": 7,
   "id": "ede87996",
   "metadata": {
    "execution": {
     "iopub.execute_input": "2023-05-14T07:51:37.177551Z",
     "iopub.status.busy": "2023-05-14T07:51:37.177178Z",
     "iopub.status.idle": "2023-05-14T07:51:37.184621Z",
     "shell.execute_reply": "2023-05-14T07:51:37.183910Z"
    },
    "papermill": {
     "duration": 0.020502,
     "end_time": "2023-05-14T07:51:37.186693",
     "exception": false,
     "start_time": "2023-05-14T07:51:37.166191",
     "status": "completed"
    },
    "tags": []
   },
   "outputs": [
    {
     "data": {
      "application/javascript": [
       "parent.postMessage({\"jupyterEvent\": \"custom.exercise_interaction\", \"data\": {\"interactionType\": 3, \"questionType\": 4, \"questionId\": \"2_WhatsWrongWithData\", \"learnToolsVersion\": \"0.3.4\", \"valueTowardsCompletion\": 0.0, \"failureMessage\": \"\", \"exceptionClass\": \"\", \"trace\": \"\", \"outcomeType\": 4}}, \"*\")"
      ],
      "text/plain": [
       "<IPython.core.display.Javascript object>"
      ]
     },
     "metadata": {},
     "output_type": "display_data"
    },
    {
     "data": {
      "text/markdown": [
       "<span style=\"color:#33cc99\">Solution:</span> \n",
       "You can see the data by calling: \n",
       "```python\n",
       "# Construct a reference to the \"taxi_trips\" table\n",
       "table_ref = dataset_ref.table(\"taxi_trips\")\n",
       "\n",
       "# API request - fetch the table\n",
       "table = client.get_table(table_ref)\n",
       "\n",
       "# Preview the first five lines of the \"taxi_trips\" table\n",
       "client.list_rows(table, max_results=5).to_dataframe()\n",
       "```\n",
       "\n",
       "Some location fields have values of `None` or `NaN`. That is a problem if we want to use those fields.\n"
      ],
      "text/plain": [
       "Solution: \n",
       "You can see the data by calling: \n",
       "```python\n",
       "# Construct a reference to the \"taxi_trips\" table\n",
       "table_ref = dataset_ref.table(\"taxi_trips\")\n",
       "\n",
       "# API request - fetch the table\n",
       "table = client.get_table(table_ref)\n",
       "\n",
       "# Preview the first five lines of the \"taxi_trips\" table\n",
       "client.list_rows(table, max_results=5).to_dataframe()\n",
       "```\n",
       "\n",
       "Some location fields have values of `None` or `NaN`. That is a problem if we want to use those fields."
      ]
     },
     "metadata": {},
     "output_type": "display_data"
    }
   ],
   "source": [
    "# Check your answer (Run this code cell to receive credit!)\n",
    "q_2.solution()"
   ]
  },
  {
   "cell_type": "markdown",
   "id": "eefc2936",
   "metadata": {
    "papermill": {
     "duration": 0.009788,
     "end_time": "2023-05-14T07:51:37.206588",
     "exception": false,
     "start_time": "2023-05-14T07:51:37.196800",
     "status": "completed"
    },
    "tags": []
   },
   "source": [
    "### 3) Determine when this data is from\n",
    "\n",
    "If the data is sufficiently old, we might be careful before assuming the data is still relevant to traffic patterns today. Write a query that counts the number of trips in each year.  \n",
    "\n",
    "Your results should have two columns:\n",
    "- `year` - the year of the trips\n",
    "- `num_trips` - the number of trips in that year\n",
    "\n",
    "Hints:\n",
    "- When using **GROUP BY** and **ORDER BY**, you should refer to the columns by the alias `year` that you set at the top of the **SELECT** query.\n",
    "- The SQL code to **SELECT** the year from `trip_start_timestamp` is <code>SELECT EXTRACT(YEAR FROM trip_start_timestamp)</code>\n",
    "- The **FROM** field can be a little tricky until you are used to it.  The format is:\n",
    "    1. A backick (the symbol \\`).\n",
    "    2. The project name. In this case it is `bigquery-public-data`.\n",
    "    3. A period.\n",
    "    4. The dataset name. In this case, it is `chicago_taxi_trips`.\n",
    "    5. A period.\n",
    "    6. The table name. You used this as your answer in **1) Find the data**.\n",
    "    7. A backtick (the symbol \\`)."
   ]
  },
  {
   "cell_type": "code",
   "execution_count": 8,
   "id": "3ab19964",
   "metadata": {
    "execution": {
     "iopub.execute_input": "2023-05-14T07:51:37.229558Z",
     "iopub.status.busy": "2023-05-14T07:51:37.228480Z",
     "iopub.status.idle": "2023-05-14T07:51:38.164770Z",
     "shell.execute_reply": "2023-05-14T07:51:38.163793Z"
    },
    "papermill": {
     "duration": 0.950129,
     "end_time": "2023-05-14T07:51:38.166976",
     "exception": false,
     "start_time": "2023-05-14T07:51:37.216847",
     "status": "completed"
    },
    "tags": []
   },
   "outputs": [
    {
     "name": "stdout",
     "output_type": "stream",
     "text": [
      "   year  num_trips\n",
      "0  2013   27217300\n",
      "1  2014   37395079\n",
      "2  2015   32385527\n",
      "3  2016   31756403\n",
      "4  2017   24979611\n"
     ]
    }
   ],
   "source": [
    "# Your code goes here\n",
    "rides_per_year_query = \"\"\"\n",
    "                       SELECT EXTRACT(YEAR FROM trip_start_timestamp) AS year, \n",
    "                              COUNT(1) AS num_trips\n",
    "                       FROM `bigquery-public-data.chicago_taxi_trips.taxi_trips`\n",
    "                       GROUP BY year\n",
    "                       ORDER BY year\n",
    "                       \"\"\"\n",
    "# Set up the query (cancel the query if it would use too much of \n",
    "# your quota)\n",
    "safe_config = bigquery.QueryJobConfig(maximum_bytes_billed=10**10)\n",
    "rides_per_year_query_job = client.query(rides_per_year_query , job_config=safe_config )\n",
    "\n",
    "# API request - run the query, and return a pandas DataFrame\n",
    "rides_per_year_result = rides_per_year_query_job.to_dataframe()\n",
    "\n",
    "# View results\n",
    "print(rides_per_year_result.head())\n",
    "\n",
    "# Check your answer\n",
    "# q_3.check()"
   ]
  },
  {
   "cell_type": "markdown",
   "id": "73bd8278",
   "metadata": {
    "papermill": {
     "duration": 0.009996,
     "end_time": "2023-05-14T07:51:38.187285",
     "exception": false,
     "start_time": "2023-05-14T07:51:38.177289",
     "status": "completed"
    },
    "tags": []
   },
   "source": [
    "For a hint or the solution, uncomment the appropriate line below."
   ]
  },
  {
   "cell_type": "code",
   "execution_count": 9,
   "id": "da5eb5b3",
   "metadata": {
    "execution": {
     "iopub.execute_input": "2023-05-14T07:51:38.211041Z",
     "iopub.status.busy": "2023-05-14T07:51:38.209916Z",
     "iopub.status.idle": "2023-05-14T07:51:38.223380Z",
     "shell.execute_reply": "2023-05-14T07:51:38.222426Z"
    },
    "papermill": {
     "duration": 0.027239,
     "end_time": "2023-05-14T07:51:38.225550",
     "exception": false,
     "start_time": "2023-05-14T07:51:38.198311",
     "status": "completed"
    },
    "tags": []
   },
   "outputs": [
    {
     "data": {
      "application/javascript": [
       "parent.postMessage({\"jupyterEvent\": \"custom.exercise_interaction\", \"data\": {\"interactionType\": 2, \"questionType\": 2, \"questionId\": \"3_YearDistrib\", \"learnToolsVersion\": \"0.3.4\", \"valueTowardsCompletion\": 0.0, \"failureMessage\": \"\", \"exceptionClass\": \"\", \"trace\": \"\", \"outcomeType\": 4}}, \"*\")"
      ],
      "text/plain": [
       "<IPython.core.display.Javascript object>"
      ]
     },
     "metadata": {},
     "output_type": "display_data"
    },
    {
     "data": {
      "text/markdown": [
       "<span style=\"color:#3366cc\">Hint:</span> Start your query with `SELECT EXTRACT(YEAR FROM trip_start_timestamp) AS year, COUNT(1) AS num_trips`."
      ],
      "text/plain": [
       "Hint: Start your query with `SELECT EXTRACT(YEAR FROM trip_start_timestamp) AS year, COUNT(1) AS num_trips`."
      ]
     },
     "metadata": {},
     "output_type": "display_data"
    },
    {
     "data": {
      "application/javascript": [
       "parent.postMessage({\"jupyterEvent\": \"custom.exercise_interaction\", \"data\": {\"interactionType\": 3, \"questionType\": 2, \"questionId\": \"3_YearDistrib\", \"learnToolsVersion\": \"0.3.4\", \"valueTowardsCompletion\": 0.0, \"failureMessage\": \"\", \"exceptionClass\": \"\", \"trace\": \"\", \"outcomeType\": 4}}, \"*\")"
      ],
      "text/plain": [
       "<IPython.core.display.Javascript object>"
      ]
     },
     "metadata": {},
     "output_type": "display_data"
    },
    {
     "data": {
      "text/markdown": [
       "<span style=\"color:#33cc99\">Solution:</span> \n",
       "```python\n",
       "\n",
       "rides_per_year_query = \"\"\"\n",
       "                       SELECT EXTRACT(YEAR FROM trip_start_timestamp) AS year, \n",
       "                              COUNT(1) AS num_trips\n",
       "                       FROM `bigquery-public-data.chicago_taxi_trips.taxi_trips`\n",
       "                       GROUP BY year\n",
       "                       ORDER BY year\n",
       "                       \"\"\"\n",
       "\n",
       "# Set up the query (cancel the query if it would use too much of \n",
       "# your quota)\n",
       "safe_config = bigquery.QueryJobConfig(maximum_bytes_billed=10**10)\n",
       "rides_per_year_query_job = client.query(rides_per_year_query, job_config=safe_config)\n",
       "\n",
       "# API request - run the query, and return a pandas DataFrame\n",
       "rides_per_year_result = rides_per_year_query_job.to_dataframe()\n",
       "\n",
       "```"
      ],
      "text/plain": [
       "Solution: \n",
       "```python\n",
       "\n",
       "rides_per_year_query = \"\"\"\n",
       "                       SELECT EXTRACT(YEAR FROM trip_start_timestamp) AS year, \n",
       "                              COUNT(1) AS num_trips\n",
       "                       FROM `bigquery-public-data.chicago_taxi_trips.taxi_trips`\n",
       "                       GROUP BY year\n",
       "                       ORDER BY year\n",
       "                       \"\"\"\n",
       "\n",
       "# Set up the query (cancel the query if it would use too much of \n",
       "# your quota)\n",
       "safe_config = bigquery.QueryJobConfig(maximum_bytes_billed=10**10)\n",
       "rides_per_year_query_job = client.query(rides_per_year_query, job_config=safe_config)\n",
       "\n",
       "# API request - run the query, and return a pandas DataFrame\n",
       "rides_per_year_result = rides_per_year_query_job.to_dataframe()\n",
       "\n",
       "```"
      ]
     },
     "metadata": {},
     "output_type": "display_data"
    }
   ],
   "source": [
    "q_3.hint()\n",
    "q_3.solution()"
   ]
  },
  {
   "cell_type": "markdown",
   "id": "c82a0fcc",
   "metadata": {
    "papermill": {
     "duration": 0.011048,
     "end_time": "2023-05-14T07:51:38.248284",
     "exception": false,
     "start_time": "2023-05-14T07:51:38.237236",
     "status": "completed"
    },
    "tags": []
   },
   "source": [
    "### 4) Dive slightly deeper\n",
    "\n",
    "You'd like to take a closer look at rides from 2016.  Copy the query you used above in `rides_per_year_query` into the cell below for `rides_per_month_query`.  Then modify it in two ways:\n",
    "1. Use a **WHERE** clause to limit the query to data from 2016.\n",
    "2. Modify the query to extract the month rather than the year."
   ]
  },
  {
   "cell_type": "code",
   "execution_count": 10,
   "id": "fb1b01b4",
   "metadata": {
    "execution": {
     "iopub.execute_input": "2023-05-14T07:51:38.272802Z",
     "iopub.status.busy": "2023-05-14T07:51:38.272178Z",
     "iopub.status.idle": "2023-05-14T07:51:39.251022Z",
     "shell.execute_reply": "2023-05-14T07:51:39.249940Z"
    },
    "papermill": {
     "duration": 0.994122,
     "end_time": "2023-05-14T07:51:39.253808",
     "exception": false,
     "start_time": "2023-05-14T07:51:38.259686",
     "status": "completed"
    },
    "tags": []
   },
   "outputs": [
    {
     "name": "stdout",
     "output_type": "stream",
     "text": [
      "   Month  num_trips\n",
      "0      1    2510389\n",
      "1      2    2568433\n",
      "2      3    2851106\n",
      "3      4    2854290\n",
      "4      5    2859147\n"
     ]
    },
    {
     "data": {
      "application/javascript": [
       "parent.postMessage({\"jupyterEvent\": \"custom.exercise_interaction\", \"data\": {\"outcomeType\": 1, \"valueTowardsCompletion\": 0.16666666666666666, \"interactionType\": 1, \"questionType\": 2, \"questionId\": \"4_MonthDistrib\", \"learnToolsVersion\": \"0.3.4\", \"failureMessage\": \"\", \"exceptionClass\": \"\", \"trace\": \"\"}}, \"*\")"
      ],
      "text/plain": [
       "<IPython.core.display.Javascript object>"
      ]
     },
     "metadata": {},
     "output_type": "display_data"
    },
    {
     "data": {
      "text/markdown": [
       "<span style=\"color:#33cc33\">Correct</span>"
      ],
      "text/plain": [
       "Correct"
      ]
     },
     "metadata": {},
     "output_type": "display_data"
    }
   ],
   "source": [
    "# Your code goes here\n",
    "rides_per_month_query = \"\"\"\n",
    "                       SELECT EXTRACT(MONTH FROM trip_start_timestamp) AS Month, \n",
    "                              COUNT(1) AS num_trips\n",
    "                       FROM `bigquery-public-data.chicago_taxi_trips.taxi_trips`\n",
    "                       WHERE EXTRACT(YEAR FROM trip_start_timestamp) = 2016\n",
    "                       GROUP BY Month\n",
    "                       ORDER BY Month\n",
    "                       \"\"\"\n",
    "\n",
    "# Set up the query\n",
    "safe_config = bigquery.QueryJobConfig(maximum_bytes_billed=10**10)\n",
    "rides_per_month_query_job = client.query(rides_per_month_query , job_config=safe_config)\n",
    "\n",
    "# API request - run the query, and return a pandas DataFrame\n",
    "rides_per_month_result = rides_per_month_query_job.to_dataframe()\n",
    "\n",
    "# View results\n",
    "print(rides_per_month_result.head())\n",
    "\n",
    "# Check your answer\n",
    "q_4.check()"
   ]
  },
  {
   "cell_type": "markdown",
   "id": "dc95ac29",
   "metadata": {
    "papermill": {
     "duration": 0.011036,
     "end_time": "2023-05-14T07:51:39.276174",
     "exception": false,
     "start_time": "2023-05-14T07:51:39.265138",
     "status": "completed"
    },
    "tags": []
   },
   "source": [
    "For a hint or the solution, uncomment the appropriate line below."
   ]
  },
  {
   "cell_type": "code",
   "execution_count": 11,
   "id": "0206a59c",
   "metadata": {
    "execution": {
     "iopub.execute_input": "2023-05-14T07:51:39.302048Z",
     "iopub.status.busy": "2023-05-14T07:51:39.301161Z",
     "iopub.status.idle": "2023-05-14T07:51:39.314447Z",
     "shell.execute_reply": "2023-05-14T07:51:39.313443Z"
    },
    "papermill": {
     "duration": 0.028397,
     "end_time": "2023-05-14T07:51:39.316580",
     "exception": false,
     "start_time": "2023-05-14T07:51:39.288183",
     "status": "completed"
    },
    "tags": []
   },
   "outputs": [
    {
     "data": {
      "application/javascript": [
       "parent.postMessage({\"jupyterEvent\": \"custom.exercise_interaction\", \"data\": {\"interactionType\": 2, \"questionType\": 2, \"questionId\": \"4_MonthDistrib\", \"learnToolsVersion\": \"0.3.4\", \"valueTowardsCompletion\": 0.0, \"failureMessage\": \"\", \"exceptionClass\": \"\", \"trace\": \"\", \"outcomeType\": 4}}, \"*\")"
      ],
      "text/plain": [
       "<IPython.core.display.Javascript object>"
      ]
     },
     "metadata": {},
     "output_type": "display_data"
    },
    {
     "data": {
      "text/markdown": [
       "<span style=\"color:#3366cc\">Hint:</span> Start your query with `SELECT EXTRACT(MONTH FROM trip_start_timestamp) AS month, COUNT(1) AS num_trips`."
      ],
      "text/plain": [
       "Hint: Start your query with `SELECT EXTRACT(MONTH FROM trip_start_timestamp) AS month, COUNT(1) AS num_trips`."
      ]
     },
     "metadata": {},
     "output_type": "display_data"
    },
    {
     "data": {
      "application/javascript": [
       "parent.postMessage({\"jupyterEvent\": \"custom.exercise_interaction\", \"data\": {\"interactionType\": 3, \"questionType\": 2, \"questionId\": \"4_MonthDistrib\", \"learnToolsVersion\": \"0.3.4\", \"valueTowardsCompletion\": 0.0, \"failureMessage\": \"\", \"exceptionClass\": \"\", \"trace\": \"\", \"outcomeType\": 4}}, \"*\")"
      ],
      "text/plain": [
       "<IPython.core.display.Javascript object>"
      ]
     },
     "metadata": {},
     "output_type": "display_data"
    },
    {
     "data": {
      "text/markdown": [
       "<span style=\"color:#33cc99\">Solution:</span> \n",
       "```python\n",
       "\n",
       "rides_per_month_query = \"\"\"\n",
       "                        SELECT EXTRACT(MONTH FROM trip_start_timestamp) AS month, \n",
       "                               COUNT(1) AS num_trips\n",
       "                        FROM `bigquery-public-data.chicago_taxi_trips.taxi_trips`\n",
       "                        WHERE EXTRACT(YEAR FROM trip_start_timestamp) = 2016\n",
       "                        GROUP BY month\n",
       "                        ORDER BY month\n",
       "                        \"\"\"\n",
       "\n",
       "# Set up the query (cancel the query if it would use too much of \n",
       "# your quota)\n",
       "safe_config = bigquery.QueryJobConfig(maximum_bytes_billed=10**10)\n",
       "rides_per_month_query_job = client.query(rides_per_month_query, job_config=safe_config)\n",
       "\n",
       "# API request - run the query, and return a pandas DataFrame\n",
       "rides_per_month_result = rides_per_month_query_job.to_dataframe()\n",
       "\n",
       "```"
      ],
      "text/plain": [
       "Solution: \n",
       "```python\n",
       "\n",
       "rides_per_month_query = \"\"\"\n",
       "                        SELECT EXTRACT(MONTH FROM trip_start_timestamp) AS month, \n",
       "                               COUNT(1) AS num_trips\n",
       "                        FROM `bigquery-public-data.chicago_taxi_trips.taxi_trips`\n",
       "                        WHERE EXTRACT(YEAR FROM trip_start_timestamp) = 2016\n",
       "                        GROUP BY month\n",
       "                        ORDER BY month\n",
       "                        \"\"\"\n",
       "\n",
       "# Set up the query (cancel the query if it would use too much of \n",
       "# your quota)\n",
       "safe_config = bigquery.QueryJobConfig(maximum_bytes_billed=10**10)\n",
       "rides_per_month_query_job = client.query(rides_per_month_query, job_config=safe_config)\n",
       "\n",
       "# API request - run the query, and return a pandas DataFrame\n",
       "rides_per_month_result = rides_per_month_query_job.to_dataframe()\n",
       "\n",
       "```"
      ]
     },
     "metadata": {},
     "output_type": "display_data"
    }
   ],
   "source": [
    "q_4.hint()\n",
    "q_4.solution()"
   ]
  },
  {
   "cell_type": "markdown",
   "id": "0be67f5d",
   "metadata": {
    "papermill": {
     "duration": 0.012358,
     "end_time": "2023-05-14T07:51:39.340904",
     "exception": false,
     "start_time": "2023-05-14T07:51:39.328546",
     "status": "completed"
    },
    "tags": []
   },
   "source": [
    "### 5) Write the query\n",
    "\n",
    "It's time to step up the sophistication of your queries.  Write a query that shows, for each hour of the day in the dataset, the corresponding number of trips and average speed.\n",
    "\n",
    "Your results should have three columns:\n",
    "- `hour_of_day` - sort by this column, which holds the result of extracting the hour from `trip_start_timestamp`.\n",
    "- `num_trips` - the count of the total number of trips in each hour of the day (e.g. how many trips were started between 6AM and 7AM, independent of which day it occurred on).\n",
    "- `avg_mph` - the average speed, measured in miles per hour, for trips that started in that hour of the day.  Average speed in miles per hour is calculated as `3600 * SUM(trip_miles) / SUM(trip_seconds)`. (The value 3600 is used to convert from seconds to hours.)\n",
    "\n",
    "Restrict your query to data meeting the following criteria:\n",
    "- a `trip_start_timestamp` > **2016-01-01** and < **2016-04-01**\n",
    "- `trip_seconds` > 0 and `trip_miles` > 0\n",
    "\n",
    "You will use a common table expression (CTE) to select just the relevant rides.  Because this dataset is very big, this CTE should select only the columns you'll need to create the final output (though you won't actually create those in the CTE -- instead you'll create those in the later **SELECT** statement below the CTE).\n",
    "\n",
    "This is a much harder query than anything you've written so far.  Good luck!"
   ]
  },
  {
   "cell_type": "code",
   "execution_count": 12,
   "id": "a60bd6c8",
   "metadata": {
    "execution": {
     "iopub.execute_input": "2023-05-14T07:51:39.367810Z",
     "iopub.status.busy": "2023-05-14T07:51:39.367160Z",
     "iopub.status.idle": "2023-05-14T07:51:40.364867Z",
     "shell.execute_reply": "2023-05-14T07:51:40.363705Z"
    },
    "papermill": {
     "duration": 1.014097,
     "end_time": "2023-05-14T07:51:40.367374",
     "exception": false,
     "start_time": "2023-05-14T07:51:39.353277",
     "status": "completed"
    },
    "tags": []
   },
   "outputs": [
    {
     "name": "stdout",
     "output_type": "stream",
     "text": [
      "   hour_of_day  num_trips    avg_mph\n",
      "0            0     203092  20.191744\n",
      "1            1     178046  18.628598\n",
      "2            2     143447  18.444370\n",
      "3            3     108899  19.273107\n",
      "4            4      80067  27.599669\n"
     ]
    },
    {
     "data": {
      "application/javascript": [
       "parent.postMessage({\"jupyterEvent\": \"custom.exercise_interaction\", \"data\": {\"outcomeType\": 1, \"valueTowardsCompletion\": 0.16666666666666666, \"interactionType\": 1, \"questionType\": 2, \"questionId\": \"5_TheLongQuery\", \"learnToolsVersion\": \"0.3.4\", \"failureMessage\": \"\", \"exceptionClass\": \"\", \"trace\": \"\"}}, \"*\")"
      ],
      "text/plain": [
       "<IPython.core.display.Javascript object>"
      ]
     },
     "metadata": {},
     "output_type": "display_data"
    },
    {
     "data": {
      "text/markdown": [
       "<span style=\"color:#33cc33\">Correct</span>"
      ],
      "text/plain": [
       "Correct"
      ]
     },
     "metadata": {},
     "output_type": "display_data"
    }
   ],
   "source": [
    "# Your code goes here\n",
    "speeds_query = \"\"\"\n",
    "              WITH RelevantRides AS\n",
    "(\n",
    "   SELECT EXTRACT(HOUR FROM trip_start_timestamp) AS hour_of_day,\n",
    "          COUNT(1) AS num_trips,\n",
    "          3600 * SUM(trip_miles) / SUM(trip_seconds) AS avg_mph\n",
    "   FROM `bigquery-public-data.chicago_taxi_trips.taxi_trips`\n",
    "   WHERE trip_start_timestamp > '2016-01-01' \n",
    "     AND trip_start_timestamp < '2016-04-01'\n",
    "     AND trip_seconds > 0 \n",
    "     AND trip_miles > 0\n",
    "   GROUP BY hour_of_day\n",
    ")\n",
    "SELECT hour_of_day, num_trips, avg_mph\n",
    "FROM RelevantRides\n",
    "ORDER BY hour_of_day\n",
    "\n",
    "               \n",
    "               \"\"\"\n",
    "\n",
    "# Set up the query\n",
    "safe_config = bigquery.QueryJobConfig(maximum_bytes_billed=10**10)\n",
    "speeds_query_job = client.query(speeds_query, job_config = safe_config)\n",
    "\n",
    "# API request - run the query, and return a pandas DataFrame\n",
    "speeds_result = speeds_query_job.to_dataframe()\n",
    "\n",
    "# View results\n",
    "print(speeds_result.head())\n",
    "\n",
    "# Check your answer\n",
    "q_5.check()"
   ]
  },
  {
   "cell_type": "markdown",
   "id": "3d656b54",
   "metadata": {
    "papermill": {
     "duration": 0.012197,
     "end_time": "2023-05-14T07:51:40.392314",
     "exception": false,
     "start_time": "2023-05-14T07:51:40.380117",
     "status": "completed"
    },
    "tags": []
   },
   "source": [
    "For the solution, uncomment the appropriate line below."
   ]
  },
  {
   "cell_type": "code",
   "execution_count": 13,
   "id": "60636019",
   "metadata": {
    "execution": {
     "iopub.execute_input": "2023-05-14T07:51:40.419524Z",
     "iopub.status.busy": "2023-05-14T07:51:40.419148Z",
     "iopub.status.idle": "2023-05-14T07:51:40.426807Z",
     "shell.execute_reply": "2023-05-14T07:51:40.425868Z"
    },
    "papermill": {
     "duration": 0.024347,
     "end_time": "2023-05-14T07:51:40.429138",
     "exception": false,
     "start_time": "2023-05-14T07:51:40.404791",
     "status": "completed"
    },
    "tags": []
   },
   "outputs": [
    {
     "data": {
      "application/javascript": [
       "parent.postMessage({\"jupyterEvent\": \"custom.exercise_interaction\", \"data\": {\"interactionType\": 3, \"questionType\": 2, \"questionId\": \"5_TheLongQuery\", \"learnToolsVersion\": \"0.3.4\", \"valueTowardsCompletion\": 0.0, \"failureMessage\": \"\", \"exceptionClass\": \"\", \"trace\": \"\", \"outcomeType\": 4}}, \"*\")"
      ],
      "text/plain": [
       "<IPython.core.display.Javascript object>"
      ]
     },
     "metadata": {},
     "output_type": "display_data"
    },
    {
     "data": {
      "text/markdown": [
       "<span style=\"color:#33cc99\">Solution:</span> \n",
       "```python\n",
       "\n",
       "speeds_query = \"\"\"\n",
       "               WITH RelevantRides AS\n",
       "               (\n",
       "                   SELECT EXTRACT(HOUR FROM trip_start_timestamp) AS hour_of_day, \n",
       "                          trip_miles, \n",
       "                          trip_seconds\n",
       "                   FROM `bigquery-public-data.chicago_taxi_trips.taxi_trips`\n",
       "                   WHERE trip_start_timestamp > '2016-01-01' AND \n",
       "                         trip_start_timestamp < '2016-04-01' AND \n",
       "                         trip_seconds > 0 AND \n",
       "                         trip_miles > 0\n",
       "               )\n",
       "               SELECT hour_of_day, \n",
       "                      COUNT(1) AS num_trips, \n",
       "                      3600 * SUM(trip_miles) / SUM(trip_seconds) AS avg_mph\n",
       "               FROM RelevantRides\n",
       "               GROUP BY hour_of_day\n",
       "               ORDER BY hour_of_day\n",
       "               \"\"\"\n",
       "\n",
       "# Set up the query (cancel the query if it would use too much of \n",
       "# your quota)\n",
       "safe_config = bigquery.QueryJobConfig(maximum_bytes_billed=10**10)\n",
       "speeds_query_job = client.query(speeds_query, job_config=safe_config)\n",
       "\n",
       "# API request - run the query, and return a pandas DataFrame\n",
       "speeds_result = speeds_query_job.to_dataframe()\n",
       "\n",
       "# View results\n",
       "print(speeds_result)\n",
       "\n",
       "```"
      ],
      "text/plain": [
       "Solution: \n",
       "```python\n",
       "\n",
       "speeds_query = \"\"\"\n",
       "               WITH RelevantRides AS\n",
       "               (\n",
       "                   SELECT EXTRACT(HOUR FROM trip_start_timestamp) AS hour_of_day, \n",
       "                          trip_miles, \n",
       "                          trip_seconds\n",
       "                   FROM `bigquery-public-data.chicago_taxi_trips.taxi_trips`\n",
       "                   WHERE trip_start_timestamp > '2016-01-01' AND \n",
       "                         trip_start_timestamp < '2016-04-01' AND \n",
       "                         trip_seconds > 0 AND \n",
       "                         trip_miles > 0\n",
       "               )\n",
       "               SELECT hour_of_day, \n",
       "                      COUNT(1) AS num_trips, \n",
       "                      3600 * SUM(trip_miles) / SUM(trip_seconds) AS avg_mph\n",
       "               FROM RelevantRides\n",
       "               GROUP BY hour_of_day\n",
       "               ORDER BY hour_of_day\n",
       "               \"\"\"\n",
       "\n",
       "# Set up the query (cancel the query if it would use too much of \n",
       "# your quota)\n",
       "safe_config = bigquery.QueryJobConfig(maximum_bytes_billed=10**10)\n",
       "speeds_query_job = client.query(speeds_query, job_config=safe_config)\n",
       "\n",
       "# API request - run the query, and return a pandas DataFrame\n",
       "speeds_result = speeds_query_job.to_dataframe()\n",
       "\n",
       "# View results\n",
       "print(speeds_result)\n",
       "\n",
       "```"
      ]
     },
     "metadata": {},
     "output_type": "display_data"
    }
   ],
   "source": [
    "q_5.solution()"
   ]
  },
  {
   "cell_type": "markdown",
   "id": "a052b0a0",
   "metadata": {
    "papermill": {
     "duration": 0.012742,
     "end_time": "2023-05-14T07:51:40.454891",
     "exception": false,
     "start_time": "2023-05-14T07:51:40.442149",
     "status": "completed"
    },
    "tags": []
   },
   "source": [
    "That's a hard query. If you made good progress towards the solution, congratulations!"
   ]
  },
  {
   "cell_type": "markdown",
   "id": "ae117ab4",
   "metadata": {
    "papermill": {
     "duration": 0.012609,
     "end_time": "2023-05-14T07:51:40.480279",
     "exception": false,
     "start_time": "2023-05-14T07:51:40.467670",
     "status": "completed"
    },
    "tags": []
   },
   "source": [
    "# Keep going\n",
    "\n",
    "You can write very complex queries now with a single data source. But nothing expands the horizons of SQL as much as the ability to combine or **JOIN** tables.\n",
    "\n",
    "**[Click here](https://www.kaggle.com/dansbecker/joining-data)** to start the last lesson in the Intro to SQL course."
   ]
  },
  {
   "cell_type": "markdown",
   "id": "a7f9f626",
   "metadata": {
    "papermill": {
     "duration": 0.013047,
     "end_time": "2023-05-14T07:51:40.506401",
     "exception": false,
     "start_time": "2023-05-14T07:51:40.493354",
     "status": "completed"
    },
    "tags": []
   },
   "source": [
    "---\n",
    "\n",
    "\n",
    "\n",
    "\n",
    "*Have questions or comments? Visit the [course discussion forum](https://www.kaggle.com/learn/intro-to-sql/discussion) to chat with other learners.*"
   ]
  }
 ],
 "metadata": {
  "kernelspec": {
   "display_name": "Python 3",
   "language": "python",
   "name": "python3"
  },
  "language_info": {
   "codemirror_mode": {
    "name": "ipython",
    "version": 3
   },
   "file_extension": ".py",
   "mimetype": "text/x-python",
   "name": "python",
   "nbconvert_exporter": "python",
   "pygments_lexer": "ipython3",
   "version": "3.10.10"
  },
  "papermill": {
   "default_parameters": {},
   "duration": 22.141538,
   "end_time": "2023-05-14T07:51:41.443898",
   "environment_variables": {},
   "exception": null,
   "input_path": "__notebook__.ipynb",
   "output_path": "__notebook__.ipynb",
   "parameters": {},
   "start_time": "2023-05-14T07:51:19.302360",
   "version": "2.4.0"
  }
 },
 "nbformat": 4,
 "nbformat_minor": 5
}
